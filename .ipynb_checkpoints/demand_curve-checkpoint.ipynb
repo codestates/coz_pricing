---
title: "수요곡선"
bibliography: pricing.bib
filters:
   - lightbox
lightbox: auto
---


# 들어가며

가격 결정에서 독과점 구조에서 가격을 직접 결정할 수 있는 시장이 아닌 경우 고객 수요를 파악하는 것은 무척 중요하다. 여기서, **독점기업**은 대체 불가능한 제품 혹은 서비스를 유일하게 공급하는 기업을 의미한다. 일반적으로 가격 변화에 모든 수요물량을 정확히 알 수가 없기 때문에 다음 데이터를 가지고 수요 곡선을 가정해보자.


```{r}
library(tidyverse)
library(ggrepel)

segment_tbl <- tibble( x = c(50, 
                             50+150, 
                             50+150+350, 
                             50+150+350+250,
                             50+150+350+250+200),
                       y = c(20, 15, 10, 8, 6))



segment_tbl %>% 
  ggplot(aes(x = x, y = y)) +
    geom_point() +
    labs(x = "수요물량",
         y = "가격",
         title = "가격과 수요물량 관계") +
     geom_hline(yintercept = 5, linetype = 2, color = "gray70") +
     expand_limits(x =0, y =0) +
     theme_bw(base_family = "NanumGothic") +
     annotate("text", x = 1, y = 6, label = "변동비", size = 3)
```
